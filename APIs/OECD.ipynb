{
 "cells": [
  {
   "cell_type": "markdown",
   "metadata": {},
   "source": [
    "OECD API with Python\n",
    "======\n",
    "\n",
    "## Example showing GDP growth rates by selected country\n",
    "\n",
    "-----\n",
    "\n",
    "*October 17, 2018*<br>\n",
    "*@bd_econ*\n",
    "\n",
    "The documentation for the Organization for Economic Cooperation and Development (OECD) API can be found [here](https://data.oecd.org/api/)"
   ]
  },
  {
   "cell_type": "code",
   "execution_count": 1,
   "metadata": {
    "ExecuteTime": {
     "end_time": "2018-10-18T01:38:11.229430Z",
     "start_time": "2018-10-18T01:38:10.934209Z"
    }
   },
   "outputs": [],
   "source": [
    "import requests\n",
    "import pandas as pd"
   ]
  },
  {
   "cell_type": "markdown",
   "metadata": {},
   "source": [
    "## Parameters/ Settings"
   ]
  },
  {
   "cell_type": "code",
   "execution_count": 2,
   "metadata": {
    "ExecuteTime": {
     "end_time": "2018-10-18T01:38:13.571764Z",
     "start_time": "2018-10-18T01:38:13.565867Z"
    }
   },
   "outputs": [],
   "source": [
    "base = 'http://stats.oecd.org/sdmx-json/data/'\n",
    "param = [('dataset', 'QNA'),\n",
    "         ('country', 'FRA+ITA+ESP+GBR+CAN+DEU'),\n",
    "         ('indicators', 'GDP+B1_GE.CUR+VOBARSA'), \n",
    "         ('freq', 'Q'), \n",
    "         ('start_date' , '?startTime=1999-Q4')\n",
    "        ]\n",
    "\n",
    "series = '.'.join(x[1] for x in param[1:-1])\n",
    "url = '{}{}/{}{}'.format(base, param[0][1], series, param[-1][1])"
   ]
  },
  {
   "cell_type": "markdown",
   "metadata": {},
   "source": [
    "## Request data"
   ]
  },
  {
   "cell_type": "code",
   "execution_count": 3,
   "metadata": {
    "ExecuteTime": {
     "end_time": "2018-10-18T01:38:24.706627Z",
     "start_time": "2018-10-18T01:38:23.201377Z"
    }
   },
   "outputs": [],
   "source": [
    "r = requests.get(url).json()"
   ]
  },
  {
   "cell_type": "code",
   "execution_count": 4,
   "metadata": {
    "ExecuteTime": {
     "end_time": "2018-10-18T01:38:28.067420Z",
     "start_time": "2018-10-18T01:38:28.025474Z"
    }
   },
   "outputs": [
    {
     "name": "stdout",
     "output_type": "stream",
     "text": [
      "Gross domestic product - expenditure approach\n"
     ]
    },
    {
     "data": {
      "text/html": [
       "<div>\n",
       "<style scoped>\n",
       "    .dataframe tbody tr th:only-of-type {\n",
       "        vertical-align: middle;\n",
       "    }\n",
       "\n",
       "    .dataframe tbody tr th {\n",
       "        vertical-align: top;\n",
       "    }\n",
       "\n",
       "    .dataframe thead th {\n",
       "        text-align: right;\n",
       "    }\n",
       "</style>\n",
       "<table border=\"1\" class=\"dataframe\">\n",
       "  <thead>\n",
       "    <tr style=\"text-align: right;\">\n",
       "      <th></th>\n",
       "      <th>Canada</th>\n",
       "      <th>France</th>\n",
       "      <th>Germany</th>\n",
       "      <th>Italy</th>\n",
       "      <th>Spain</th>\n",
       "      <th>United Kingdom</th>\n",
       "    </tr>\n",
       "  </thead>\n",
       "  <tbody>\n",
       "    <tr>\n",
       "      <th>2019-01-01</th>\n",
       "      <td>1.2</td>\n",
       "      <td>2.2</td>\n",
       "      <td>2.5</td>\n",
       "      <td>0.8</td>\n",
       "      <td>2.3</td>\n",
       "      <td>2.7</td>\n",
       "    </tr>\n",
       "    <tr>\n",
       "      <th>2019-04-01</th>\n",
       "      <td>3.2</td>\n",
       "      <td>1.0</td>\n",
       "      <td>-2.0</td>\n",
       "      <td>0.4</td>\n",
       "      <td>1.5</td>\n",
       "      <td>-0.2</td>\n",
       "    </tr>\n",
       "    <tr>\n",
       "      <th>2019-07-01</th>\n",
       "      <td>1.1</td>\n",
       "      <td>0.6</td>\n",
       "      <td>1.2</td>\n",
       "      <td>0.0</td>\n",
       "      <td>1.6</td>\n",
       "      <td>2.1</td>\n",
       "    </tr>\n",
       "    <tr>\n",
       "      <th>2019-10-01</th>\n",
       "      <td>0.6</td>\n",
       "      <td>-0.7</td>\n",
       "      <td>-0.1</td>\n",
       "      <td>-0.9</td>\n",
       "      <td>1.7</td>\n",
       "      <td>-0.0</td>\n",
       "    </tr>\n",
       "    <tr>\n",
       "      <th>2020-01-01</th>\n",
       "      <td>-8.2</td>\n",
       "      <td>-21.7</td>\n",
       "      <td>-7.8</td>\n",
       "      <td>-19.8</td>\n",
       "      <td>-19.3</td>\n",
       "      <td>-8.5</td>\n",
       "    </tr>\n",
       "  </tbody>\n",
       "</table>\n",
       "</div>"
      ],
      "text/plain": [
       "            Canada  France  Germany  Italy  Spain  United Kingdom\n",
       "2019-01-01     1.2     2.2      2.5    0.8    2.3             2.7\n",
       "2019-04-01     3.2     1.0     -2.0    0.4    1.5            -0.2\n",
       "2019-07-01     1.1     0.6      1.2    0.0    1.6             2.1\n",
       "2019-10-01     0.6    -0.7     -0.1   -0.9    1.7            -0.0\n",
       "2020-01-01    -8.2   -21.7     -7.8  -19.8  -19.3            -8.5"
      ]
     },
     "execution_count": 4,
     "metadata": {},
     "output_type": "execute_result"
    }
   ],
   "source": [
    "date_list = r['structure']['dimensions']['observation'][0]['values']\n",
    "dates = pd.to_datetime([x['id'] for x in date_list])\n",
    "    \n",
    "areas = [v['name'] for v in r['structure']['dimensions']['series'][0]['values']]\n",
    "\n",
    "title = r['structure']['dimensions']['series'][1]['values'][0]['name']\n",
    "\n",
    "df = pd.DataFrame()\n",
    "for i, area in enumerate(areas):\n",
    "    s_key = '{}:0:0:0'.format(i)\n",
    "    s_list = r['dataSets'][0]['series'][s_key]['observations']\n",
    "    df[area] = pd.Series([s_list[val][0] for val in sorted(s_list, key=int)])\n",
    "    df[area] = (((df[area]/df[area].shift())**4)-1)*100\n",
    "df.index = dates\n",
    "df = df.dropna()\n",
    "print(title)\n",
    "df.tail().round(1)"
   ]
  }
 ],
 "metadata": {
  "kernelspec": {
   "display_name": "Python 3",
   "language": "python",
   "name": "python3"
  },
  "language_info": {
   "codemirror_mode": {
    "name": "ipython",
    "version": 3
   },
   "file_extension": ".py",
   "mimetype": "text/x-python",
   "name": "python",
   "nbconvert_exporter": "python",
   "pygments_lexer": "ipython3",
   "version": "3.11.5"
  }
 },
 "nbformat": 4,
 "nbformat_minor": 2
}
