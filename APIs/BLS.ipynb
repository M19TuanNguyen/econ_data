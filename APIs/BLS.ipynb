{
 "cells": [
  {
   "cell_type": "markdown",
   "metadata": {
    "collapsed": true
   },
   "source": [
    "Bureau of Labor Statistics API with Python\n",
    "======\n",
    "\n",
    "## Unemployment rates by race/origin \n",
    "\n",
    "------\n",
    "\n",
    "*September 3, 2017*<br>\n",
    "*@bd_econ*\n",
    "\n",
    "BLS API documentation is [here](https://www.bls.gov/developers/)\n",
    "\n",
    "This example collects data on the unemployment rate for White, Black, and Hispanic populations in the US and plots the results."
   ]
  },
  {
   "cell_type": "code",
   "execution_count": 10,
   "metadata": {},
   "outputs": [
    {
     "name": "stdout",
     "output_type": "stream",
     "text": [
      "abc\n"
     ]
    },
    {
     "name": "stderr",
     "output_type": "stream",
     "text": [
      "/tmp/ipykernel_30591/2147675443.py:8: DeprecationWarning: Attribute access is deprecated (bls_key); use indexed access instead.\n",
      "  print(cfg.bls_key)\n"
     ]
    }
   ],
   "source": [
    "from config import Config\n",
    "\n",
    "# Open the configuration file using a context manager\n",
    "with open('config.cfg') as f:\n",
    "    cfg = Config(f)\n",
    "\n",
    "# Print the value of the 'bls_key' from the configuration\n",
    "print(cfg.bls_key)"
   ]
  },
  {
   "cell_type": "code",
   "execution_count": null,
   "metadata": {
    "ExecuteTime": {
     "end_time": "2019-08-06T03:39:39.520730Z",
     "start_time": "2019-08-06T03:39:38.986066Z"
    }
   },
   "outputs": [],
   "source": [
    "%matplotlib inline\n",
    "import pandas as pd\n",
    "import requests\n",
    "import json\n",
    "\n",
    "api_url = 'https://api.bls.gov/publicAPI/v2/timeseries/data/'\n",
    "\n",
    "# API key in config.py which contains: bls_key = 'key'\n",
    "import config\n",
    "key = '?registrationkey={}'.format(config.bls_key)"
   ]
  },
  {
   "cell_type": "markdown",
   "metadata": {},
   "source": [
    "## Parameters/ Date handling\n",
    "\n",
    "The BLS API limits how many years of data can be returned in a request. The small while loop below splits a date range into chunks that the BLS API will accept."
   ]
  },
  {
   "cell_type": "code",
   "execution_count": null,
   "metadata": {
    "ExecuteTime": {
     "end_time": "2019-08-06T03:39:39.532799Z",
     "start_time": "2019-08-06T03:39:39.525380Z"
    }
   },
   "outputs": [],
   "source": [
    "# Series stored as a dictionary\n",
    "series_dict = {\n",
    "    'LNS14000003': 'White', \n",
    "    'LNS14000006': 'Black', \n",
    "    'LNS14000009': 'Hispanic'}\n",
    "\n",
    "# Start year and end year\n",
    "date_r = (1975, 2021)\n",
    "\n",
    "# Handle dates\n",
    "dates = [(str(date_r[0]), str(date_r[1]))]\n",
    "while int(dates[-1][1]) - int(dates[-1][0]) > 10:\n",
    "    dates = [(str(date_r[0]), str(date_r[0]+9))]\n",
    "    d1 = int(dates[-1][0])\n",
    "    while int(dates[-1][1]) < date_r[1]:\n",
    "        d1 = d1 + 10\n",
    "        d2 = min([date_r[1], d1+9])\n",
    "        dates.append((str(d1),(d2))) "
   ]
  },
  {
   "cell_type": "markdown",
   "metadata": {},
   "source": [
    "## Get the data"
   ]
  },
  {
   "cell_type": "code",
   "execution_count": null,
   "metadata": {
    "ExecuteTime": {
     "end_time": "2019-08-06T03:39:42.192510Z",
     "start_time": "2019-08-06T03:39:39.534545Z"
    }
   },
   "outputs": [],
   "source": [
    "df = pd.DataFrame()\n",
    "\n",
    "for start, end in dates:\n",
    "    # Submit the list of series as data\n",
    "    data = json.dumps({\n",
    "        \"seriesid\": list(series_dict.keys()),\n",
    "        \"startyear\": start, \"endyear\": end})\n",
    "\n",
    "    # Post request for the data\n",
    "    p = requests.post(\n",
    "        '{}{}'.format(api_url, key), \n",
    "        headers={'Content-type': 'application/json'}, \n",
    "        data=data).json()\n",
    "    for s in p['Results']['series']:\n",
    "        col = series_dict[s['seriesID']]\n",
    "        for r in s['data']:\n",
    "            date = pd.to_datetime('{} {}'.format(\n",
    "                r['periodName'], r['year']))\n",
    "            df.at[date, col] = float(r['value'])\n",
    "df = df.sort_index()\n",
    "# Output results\n",
    "print('Post Request Status: {}'.format(p['status']))\n",
    "df.tail(13)"
   ]
  },
  {
   "cell_type": "markdown",
   "metadata": {},
   "source": [
    "## Plot the results"
   ]
  },
  {
   "cell_type": "code",
   "execution_count": null,
   "metadata": {
    "ExecuteTime": {
     "end_time": "2019-08-06T03:39:42.198795Z",
     "start_time": "2019-08-06T03:39:42.193846Z"
    }
   },
   "outputs": [],
   "source": [
    "import matplotlib as mpl\n",
    "import matplotlib.pyplot as plt\n",
    "plt.style.use('seaborn-white')\n",
    "mpl.rc('axes', edgecolor='white') # Hide the axes\n",
    "plt.rc('axes', axisbelow=True)"
   ]
  },
  {
   "cell_type": "code",
   "execution_count": null,
   "metadata": {},
   "outputs": [],
   "source": [
    "pd.read_csv('rec_dates.csv')"
   ]
  },
  {
   "cell_type": "code",
   "execution_count": null,
   "metadata": {
    "ExecuteTime": {
     "end_time": "2019-08-06T03:39:42.584344Z",
     "start_time": "2019-08-06T03:39:42.200207Z"
    }
   },
   "outputs": [],
   "source": [
    "df.dropna().plot(title='Unemployment Rate by Race or Ethnicity', figsize=(15, 5))\n",
    "\n",
    "# Shaded bars indicating recessions\n",
    "for i, v in pd.read_csv('rec_dates.csv').dropna().loc[2:].iterrows():\n",
    "    plt.axvspan(v['peak'], v['trough'], fill=True, \n",
    "                linewidth=0, color='gray', alpha=0.2)  "
   ]
  }
 ],
 "metadata": {
  "kernelspec": {
   "display_name": "Python 3",
   "language": "python",
   "name": "python3"
  },
  "language_info": {
   "codemirror_mode": {
    "name": "ipython",
    "version": 3
   },
   "file_extension": ".py",
   "mimetype": "text/x-python",
   "name": "python",
   "nbconvert_exporter": "python",
   "pygments_lexer": "ipython3",
   "version": "3.11.5"
  }
 },
 "nbformat": 4,
 "nbformat_minor": 2
}
