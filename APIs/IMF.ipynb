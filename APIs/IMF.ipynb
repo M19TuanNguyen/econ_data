{
 "cells": [
  {
   "cell_type": "markdown",
   "metadata": {},
   "source": [
    "International Monetary Fund API with Python\n",
    "=====\n",
    "\n",
    "I'd suggest first looking at my website's [guide](https://www.bd-econ.com/imfapi1.html) to using the IMF API. \n",
    "\n",
    "\n",
    "IMF API Documentation is [here](http://datahelp.imf.org/knowledgebase/articles/667681-json-restful-web-service)"
   ]
  },
  {
   "cell_type": "code",
   "execution_count": 1,
   "metadata": {
    "ExecuteTime": {
     "end_time": "2024-07-03T07:00:15.870557Z",
     "start_time": "2024-07-03T07:00:15.867880Z"
    }
   },
   "outputs": [],
   "source": [
    "# Python 3.11\n",
    "import requests\n",
    "import pandas as pd\n",
    "import json"
   ]
  },
  {
   "cell_type": "markdown",
   "metadata": {},
   "source": [
    "#### Parameters/ Settings"
   ]
  },
  {
   "cell_type": "code",
   "execution_count": 2,
   "metadata": {
    "ExecuteTime": {
     "end_time": "2024-07-03T07:15:01.860495Z",
     "start_time": "2024-07-03T07:15:00.370062Z"
    }
   },
   "outputs": [],
   "source": [
    "dataset_id = {'BOP' : 'Balance of Payments', 'CPI' : 'Consumer price index', \n",
    "              'CPIS' : 'Coordinated Portfolio Investment Survey', 'COFER': 'Currency Composition of Official Foreign Exchange Reserves', 'DOT' : 'Direction of Trade Statistics', 'FAS': 'Financial Access Survey', 'FSI': 'Financial Soundness Indicators', 'FM': 'Fiscal Monitor', 'HPDD':'Historical Public Debt','IFS':'International Financial Statistics', 'IRFCL':'International Reserves and Foreign Currency Liquidity','MCDREO':'Middle East and Central Asia Regional Economic Outlook', 'MFS':'Monetary and Financial Statistics'}"
   ]
  },
  {
   "cell_type": "code",
   "execution_count": 27,
   "metadata": {
    "ExecuteTime": {
     "end_time": "2024-07-03T08:40:29.554241Z",
     "start_time": "2024-07-03T08:40:29.545837Z"
    }
   },
   "outputs": [],
   "source": [
    "def get_country_code(database_id):\n",
    "    response = requests.get(f'http://dataservices.imf.org/REST/SDMX_JSON.svc/DataStructure/{database_id}').json()\n",
    "    codes = response['Structure'][\"CodeLists\"]['CodeList'][2]['Code']\n",
    "    country_code = {\"code\":[], 'country':[]}\n",
    "    for i in codes:\n",
    "        country_code['code'].append(i['@value'])\n",
    "        country_code['country'].append(i['Description']['#text'])\n",
    "    countries = pd.DataFrame(country_code)\n",
    "    return countries\n",
    "def get_indicator_id(database_id):\n",
    "    response = requests.get(f'http://dataservices.imf.org/REST/SDMX_JSON.svc/DataStructure/{database_id}').json()\n",
    "    codes = response['Structure'][\"CodeLists\"]['CodeList'][3]['Code']\n",
    "    id = {\"id\": [], 'name' : []}\n",
    "    for i in codes:\n",
    "        key = i['@value']\n",
    "        values = i['Description']['#text'].split(',')\n",
    "        id['id'].append(key)\n",
    "        id['name'].append(values)\n",
    "    indicator_id =  pd.DataFrame(id)\n",
    "    return indicator_id\n"
   ]
  },
  {
   "cell_type": "code",
   "execution_count": 4,
   "metadata": {},
   "outputs": [],
   "source": [
    "# Go to IMF homepage to get dataset ID \n",
    "# Use dataset ID and add to below url to get datastructure \n",
    "# http://dataservices.imf.org/REST/SDMX_XML.svc/DataStructure/CPI \n",
    "# Use datastructure to get elements for url requests"
   ]
  },
  {
   "cell_type": "code",
   "execution_count": null,
   "metadata": {},
   "outputs": [],
   "source": [
    "\n",
    "\n",
    "      # df = pd.DataFrame({s['@REF_AREA']: # Each country/area\n",
    "      #                   {(i['@TIME_PERIOD']: float(i['@OBS_VALUE']), 'unit' : i['@UNIT_MULT'])\n",
    "      #                   for i in s['Obs']} for s in data})\n",
    "\n",
    "      # # Convert index to datetime\n",
    "      # df.index = pd.to_datetime(df.index)\n",
    "      # df = df.reset_index()\n",
    "      # df_long = pd.melt(df, id_vars=['index'], var_name='country', value_name='data')"
   ]
  },
  {
   "cell_type": "markdown",
   "metadata": {},
   "source": [
    "#### Get data from api"
   ]
  },
  {
   "cell_type": "code",
   "execution_count": 94,
   "metadata": {
    "ExecuteTime": {
     "end_time": "2019-04-20T14:45:26.002578Z",
     "start_time": "2019-04-20T14:45:25.999386Z"
    }
   },
   "outputs": [],
   "source": [
    "def get_data_api(dataset_id, freq, country_list, indicator_id,startPeriod):\n",
    "      # ('dataset', 'CPI'), ('freq', 'M'),('country', 'BR+CN+FR'),('indicator_id', 'PCPI_IX'),('start', '?startPeriod=2009')\n",
    "      countries = \"+\".join(i for i in country_list)\n",
    "      url = 'http://dataservices.imf.org/REST/SDMX_JSON.svc/'\n",
    "      param = [('dataset', f'{dataset_id}'),\n",
    "            ('freq', f'{freq}'),\n",
    "            ('country', f'{countries}'),\n",
    "            ('indicator_id', f'{indicator_id}'),\n",
    "            ('start', f'?startPeriod={startPeriod}')]\n",
    "      series = '.'.join([i[1] for i in param[1:4]])\n",
    "      key = f'CompactData/{param[0][1]}/{series}{param[-1][1]}'\n",
    "      # Combine API url with key specific to data request\n",
    "      r = requests.get(f'{url}{key}').json()\n",
    "      # data portion of results\n",
    "      data = r['CompactData']['DataSet']['Series']\n",
    "      # Create a dictionary to store the data\n",
    "      data_dict = {}\n",
    "      for s in data:\n",
    "            country = s['@REF_AREA']\n",
    "            observations = s['Obs']\n",
    "            data_dict[country] = {obs['@TIME_PERIOD']: float(obs['@OBS_VALUE']) for obs in observations}\n",
    "            data_dict['unit'] = s['@UNIT_MULT']\n",
    "      # Create a pandas DataFrame from the dictionary\n",
    "      df = pd.DataFrame(data_dict)\n",
    "      \n",
    "      # Convert the index to datetime\n",
    "      df.index = pd.to_datetime(df.index)\n",
    "      \n",
    "      # Reset the index and convert the DataFrame to long format\n",
    "      df = df.reset_index().rename(columns={'index': 'date'})\n",
    "      df_long = pd.melt(df, id_vars=['date', 'unit'], var_name='country', value_name='data')\n",
    "      \n",
    "      return df_long"
   ]
  },
  {
   "cell_type": "code",
   "execution_count": 95,
   "metadata": {},
   "outputs": [],
   "source": [
    "df = get_data_api('CPI', 'M', ['BR', 'CN'], 'PCPI_IX', 2010 )"
   ]
  },
  {
   "cell_type": "markdown",
   "metadata": {},
   "source": [
    "------\n",
    "\n",
    "## Metadata and param lookup examples"
   ]
  },
  {
   "cell_type": "markdown",
   "metadata": {},
   "source": [
    "#### Find available series by search term"
   ]
  },
  {
   "cell_type": "code",
   "execution_count": 61,
   "metadata": {
    "ExecuteTime": {
     "end_time": "2019-04-20T14:45:27.783774Z",
     "start_time": "2019-04-20T14:45:27.141925Z"
    }
   },
   "outputs": [
    {
     "name": "stdout",
     "output_type": "stream",
     "text": [
      "Consumer Price Index (CPI): CPI\n"
     ]
    }
   ],
   "source": [
    "url = 'http://dataservices.imf.org/REST/SDMX_JSON.svc/'\n",
    "key = 'Dataflow'  # Method with series information\n",
    "t = 'Consumer'  # Term to find in series names\n",
    "sl = requests.get(f'{url}{key}').json()['Structure']['Dataflows']['Dataflow']\n",
    "# Print list of series containing text t\n",
    "for s in (s for s in sl if t in s['Name']['#text']): \n",
    "    code = s['KeyFamilyRef']['KeyFamilyID']\n",
    "    print(f\"{s['Name']['#text']}: {code}\")"
   ]
  },
  {
   "cell_type": "markdown",
   "metadata": {},
   "source": [
    "#### Print the dimensions for a given series, use series get above to replace key"
   ]
  },
  {
   "cell_type": "code",
   "execution_count": 71,
   "metadata": {
    "ExecuteTime": {
     "end_time": "2019-04-20T14:45:27.923602Z",
     "start_time": "2019-04-20T14:45:27.785454Z"
    }
   },
   "outputs": [
    {
     "name": "stdout",
     "output_type": "stream",
     "text": [
      "Dimension 1: CL_FREQ\n",
      "Dimension 2: CL_AREA_CPI\n",
      "Dimension 3: CL_INDICATOR_CPI\n"
     ]
    }
   ],
   "source": [
    "dataset_id = 'CPI'\n",
    "key_1 = f'DataStructure/{dataset_id}'  # Method / series\n",
    "dl = requests.get(f'{url}{key_1}').json()\\\n",
    "    ['Structure']['KeyFamilies']['KeyFamily']['Components']['Dimension']\n",
    "for n, d in enumerate(dl):\n",
    "    print(f\"Dimension {n+1}: {d['@codelist']}\")"
   ]
  },
  {
   "cell_type": "markdown",
   "metadata": {},
   "source": [
    "#### See what values are acceptable for dimension above"
   ]
  },
  {
   "cell_type": "code",
   "execution_count": 65,
   "metadata": {
    "ExecuteTime": {
     "end_time": "2019-04-20T14:45:28.003483Z",
     "start_time": "2019-04-20T14:45:27.926168Z"
    }
   },
   "outputs": [
    {
     "name": "stdout",
     "output_type": "stream",
     "text": [
      "Consumer Price Index, All items: PCPI_IX\n",
      "Food and non-alcoholic beverages: PCPIF_IX\n",
      "Alcoholic Beverages, Tobacco, and Narcotics: PCPIFBT_IX\n",
      "Clothing and footwear: PCPIA_IX\n",
      "Housing, Water, Electricity, Gas and Other Fuels: PCPIH_IX\n",
      "Furnishings, household equipment and routine household maintenance: PCPIHO_IX\n",
      "Health: PCPIM_IX\n",
      "Transport: PCPIT_IX\n",
      "Communication: PCPIEC_IX\n",
      "Recreation and culture: PCPIR_IX\n",
      "Education: PCPIED_IX\n",
      "Restaurants and hotels: PCPIRE_IX\n",
      "Miscellaneous goods and services: PCPIO_IX\n",
      "Consumer Price Index, All items, Overlap: PCPI_OLP_IX\n",
      "Food and non-alcoholic beverages, Overlap: PCPIF_OLP_IX\n",
      "Alcoholic Beverages, Tobacco, and Narcotics, Overlap: PCPIFBT_OLP_IX\n",
      "Clothing and footwear, Overlap: PCPIA_OLP_IX\n",
      "Housing, Water, Electricity, Gas and Other Fuels, Overlap: PCPIH_OLP_IX\n",
      "Furnishings, household equipment and routine household maintenance, Overlap: PCPIHO_OLP_IX\n",
      "Health, Overlap: PCPIM_OLP_IX\n",
      "Transport, Overlap: PCPIT_OLP_IX\n",
      "Communication, Overlap: PCPIEC_OLP_IX\n",
      "Recreation and culture, Overlap: PCPIR_OLP_IX\n",
      "Education, Overlap: PCPIED_OLP_IX\n",
      "Restaurants and hotels, Overlap: PCPIRE_OLP_IX\n",
      "Miscellaneous goods and services, Overlap: PCPIO_OLP_IX\n",
      "Food and non-alcoholic beverages, Weight: PCPIF_WT\n",
      "Alcoholic Beverages, Tobacco, and Narcotics, Weight: PCPIFBT_WT\n",
      "Clothing and footwear, Weight: PCPIA_WT\n",
      "Housing, Water, Electricity, Gas and Other Fuels, Weight: PCPIH_WT\n",
      "Furnishings, household equipment and routine household maintenance, Weight: PCPIHO_WT\n",
      "Health, Weight: PCPIM_WT\n",
      "Transport, Weight: PCPIT_WT\n",
      "Communication, Weight: PCPIEC_WT\n",
      "Recreation and culture, Weight: PCPIR_WT\n",
      "Education, Weight: PCPIED_WT\n",
      "Restaurants and hotels, Weight: PCPIRE_WT\n",
      "Miscellaneous goods and services, Weight: PCPIO_WT\n",
      "Consumer Price Index, All items, Harmonized: PCPIHA_IX\n",
      "Food and non-alcoholic beverages, Harmonized: PCPIHAF_IX\n",
      "Alcoholic Beverages, Tobacco, and Narcotics, Harmonized: PCPIHABT_IX\n",
      "Clothing and footwear, Harmonized: PCPIHAA_IX\n",
      "Housing, Water, Electricity, Gas and Other Fuels, Harmonized: PCPIHAH_IX\n",
      "Furnishings, household equipment and routine household maintenance, Harmonized: PCPIHAHO_IX\n",
      "Health, Harmonized: PCPIHAM_IX\n",
      "Transport, Harmonized: PCPIHAT_IX\n",
      "Communication, Harmonized: PCPIHAC_IX\n",
      "Recreation and culture, Harmonized: PCPIHARC_IX\n",
      "Education, Harmonized: PCPIHAED_IX\n",
      "Restaurants and hotels, Harmonized: PCPIHARE_IX\n",
      "Miscellaneous goods and services, Harmonized: PCPIHAO_IX\n",
      "Consumer Price Index, All items, Harmonized, Overlap: PCPIHA_OLP_IX\n",
      "Food and non-alcoholic beverages, Harmonized, Overlap: PCPIHAF_OLP_IX\n",
      "Alcoholic Beverages, Tobacco, and Narcotics, Harmonized, Overlap: PCPIHABT_OLP_IX\n",
      "Clothing and footwear, Harmonized, Overlap: PCPIHAA_OLP_IX\n",
      "Housing, Water, Electricity, Gas and Other Fuels, Harmonized, Overlap: PCPIHAH_OLP_IX\n",
      "Furnishings, household equipment and routine household maintenance, Harmonized, Overlap: PCPIHAHO_OLP_IX\n",
      "Health, Harmonized, Overlap: PCPIHAM_OLP_IX\n",
      "Transport, Harmonized, Overlap: PCPIHAT_OLP_IX\n",
      "Communication, Harmonized, Overlap: PCPIHAC_OLP_IX\n",
      "Recreation and culture, Harmonized, Overlap: PCPIHARC_OLP_IX\n",
      "Education, Harmonized, Overlap: PCPIHAED_OLP_IX\n",
      "Restaurants and hotels, Harmonized, Overlap: PCPIHARE_OLP_IX\n",
      "Miscellaneous goods and services, Harmonized, Overlap: PCPIHAO_OLP_IX\n",
      "Food and non-alcoholic beverages, Harmonized, Weight: PCPIHAF_WT\n",
      "Alcoholic Beverages, Tobacco, and Narcotics, Harmonized, Weight: PCPIHABT_WT\n",
      "Clothing and footwear, Harmonized, Weight: PCPIHAA_WT\n",
      "Housing, Water, Electricity, Gas and Other Fuels, Harmonized, Weight: PCPIHAH_WT\n",
      "Furnishings, household equipment and routine household maintenance, Harmonized, Weight: PCPIHAHO_WT\n",
      "Health, Harmonized, Weight: PCPIHAM_WT\n",
      "Transport, Harmonized, Weight: PCPIHAT_WT\n",
      "Communication, Harmonized, Weight: PCPIHAC_WT\n",
      "Recreation and culture, Harmonized, Weight: PCPIHARC_WT\n",
      "Education, Harmonized, Weight: PCPIHAED_WT\n",
      "Restaurants and hotels, Harmonized, Weight: PCPIHARE_WT\n",
      "Miscellaneous goods and services, Harmonized, Weight: PCPIHAO_WT\n",
      "Consumer Price Index, All items, Standard Reference Period: PCPI_SRP_IX\n",
      "Food and non-alcoholic beverages, Standard Reference Period: PCPIF_SRP_IX\n",
      "Alcoholic Beverages, Tobacco, and Narcotics, Standard Reference Period: PCPIFBT_SRP_IX\n",
      "Clothing and footwear, Standard Reference Period: PCPIA_SRP_IX\n",
      "Housing, Water, Electricity, Gas and Other Fuels, Standard Reference Period: PCPIH_SRP_IX\n",
      "Furnishings, household equipment and routine household maintenance, Standard Reference Period: PCPIHO_SRP_IX\n",
      "Health, Standard Reference Period: PCPIM_SRP_IX\n",
      "Transport, Standard Reference Period: PCPIT_SRP_IX\n",
      "Communication, Standard Reference Period: PCPIEC_SRP_IX\n",
      "Recreation and culture, Standard Reference Period: PCPIR_SRP_IX\n",
      "Education, Standard Reference Period: PCPIED_SRP_IX\n",
      "Restaurants and hotels, Standard Reference Period: PCPIRE_SRP_IX\n",
      "Miscellaneous goods and services, Standard Reference Period: PCPIO_SRP_IX\n",
      "Consumer Price Index, All items, Percentage change, Previous period: PCPI_PC_PP_PT\n",
      "Food and non-alcoholic beverages, Percentage change, Previous period: PCPIF_PC_PP_PT\n",
      "Alcoholic Beverages, Tobacco, and Narcotics, Percentage change, Previous period: PCPIFBT_PC_PP_PT\n",
      "Clothing and footwear, Percentage change, Previous period: PCPIA_PC_PP_PT\n",
      "Housing, Water, Electricity, Gas and Other Fuels, Percentage change, Previous period: PCPIH_PC_PP_PT\n",
      "Furnishings, household equipment and routine household maintenance, Percentage change, Previous period: PCPIHO_PC_PP_PT\n",
      "Health, Percentage change, Previous period: PCPIM_PC_PP_PT\n",
      "Transport, Percentage change, Previous period: PCPIT_PC_PP_PT\n",
      "Communication, Percentage change, Previous period: PCPIEC_PC_PP_PT\n",
      "Recreation and culture, Percentage change, Previous period: PCPIR_PC_PP_PT\n",
      "Education, Percentage change, Previous period: PCPIED_PC_PP_PT\n",
      "Restaurants and hotels, Percentage change, Previous period: PCPIRE_PC_PP_PT\n",
      "Miscellaneous goods and services, Percentage change, Previous period: PCPIO_PC_PP_PT\n",
      "Consumer Price Index, All items, Percentage change, Previous year: PCPI_PC_CP_A_PT\n",
      "Food and non-alcoholic beverages, Percentage change, Previous year: PCPIF_PC_CP_A_PT\n",
      "Alcoholic Beverages, Tobacco, and Narcotics, Percentage change, Previous year: PCPIFBT_PC_CP_A_PT\n",
      "Clothing and footwear, Percentage change, Previous year: PCPIA_PC_CP_A_PT\n",
      "Housing, Water, Electricity, Gas and Other Fuels, Percentage change, Previous year: PCPIH_PC_CP_A_PT\n",
      "Furnishings, household equipment and routine household maintenance, Percentage change, Previous year: PCPIHO_PC_CP_A_PT\n",
      "Health, Percentage change, Previous year: PCPIM_PC_CP_A_PT\n",
      "Transport, Percentage change, Previous year: PCPIT_PC_CP_A_PT\n",
      "Communication, Percentage change, Previous year: PCPIEC_PC_CP_A_PT\n",
      "Recreation and culture, Percentage change, Previous year: PCPIR_PC_CP_A_PT\n",
      "Education, Percentage change, Previous year: PCPIED_PC_CP_A_PT\n",
      "Restaurants and hotels, Percentage change, Previous year: PCPIRE_PC_CP_A_PT\n",
      "Miscellaneous goods and services, Percentage change, Previous year: PCPIO_PC_CP_A_PT\n",
      "Consumer Price Index, All items, Harmonized, Standard Reference Period: PCPIHA_SRP_IX\n",
      "Food and non-alcoholic beverages, Harmonized, Standard Reference Period: PCPIHAF_SRP_IX\n",
      "Alcoholic Beverages, Tobacco, and Narcotics, Harmonized, Standard Reference Period: PCPIHABT_SRP_IX\n",
      "Clothing and footwear, Harmonized, Standard Reference Period: PCPIHAA_SRP_IX\n",
      "Housing, Water, Electricity, Gas and Other Fuels, Harmonized, Standard Reference Period: PCPIHAH_SRP_IX\n",
      "Furnishings, household equipment and routine household maintenance, Harmonized, Standard Reference Period: PCPIHAHO_SRP_IX\n",
      "Health, Harmonized, Standard Reference Period: PCPIHAM_SRP_IX\n",
      "Transport, Harmonized, Standard Reference Period: PCPIHAT_SRP_IX\n",
      "Communication, Harmonized, Standard Reference Period: PCPIHAC_SRP_IX\n",
      "Recreation and culture, Harmonized, Standard Reference Period: PCPIHARC_SRP_IX\n",
      "Education, Harmonized, Standard Reference Period: PCPIHAED_SRP_IX\n",
      "Restaurants and hotels, Harmonized, Standard Reference Period: PCPIHARE_SRP_IX\n",
      "Miscellaneous goods and services, Harmonized, Standard Reference Period: PCPIHAO_SRP_IX\n",
      "Consumer Price Index, All items, Harmonized, Percentage change, Previous period: PCPIHA_PC_PP_PT\n",
      "Food and non-alcoholic beverages, Harmonized, Percentage change, Previous period: PCPIHAF_PC_PP_PT\n",
      "Alcoholic Beverages, Tobacco, and Narcotics, Harmonized, Percentage change, Previous period: PCPIHABT_PC_PP_PT\n",
      "Clothing and footwear, Harmonized, Percentage change, Previous period: PCPIHAA_PC_PP_PT\n",
      "Housing, Water, Electricity, Gas and Other Fuels, Harmonized, Percentage change, Previous period: PCPIHAH_PC_PP_PT\n",
      "Furnishings, household equipment and routine household maintenance, Harmonized, Percentage change, Previous period: PCPIHAHO_PC_PP_PT\n",
      "Health, Harmonized, Percentage change, Previous period: PCPIHAM_PC_PP_PT\n",
      "Transport, Harmonized, Percentage change, Previous period: PCPIHAT_PC_PP_PT\n",
      "Communication, Harmonized, Percentage change, Previous period: PCPIHAC_PC_PP_PT\n",
      "Recreation and culture, Harmonized, Percentage change, Previous period: PCPIHARC_PC_PP_PT\n",
      "Education, Harmonized, Percentage change, Previous period: PCPIHAED_PC_PP_PT\n",
      "Restaurants and hotels, Harmonized, Percentage change, Previous period: PCPIHARE_PC_PP_PT\n",
      "Miscellaneous goods and services, Harmonized, Percentage change, Previous period: PCPIHAO_PC_PP_PT\n",
      "Consumer Price Index, All items, Harmonized, Percentage change, Previous year: PCPIHA_PC_CP_A_PT\n",
      "Food and non-alcoholic beverages, Harmonized, Percentage change, Previous year: PCPIHAF_PC_CP_A_PT\n",
      "Alcoholic Beverages, Tobacco, and Narcotics, Harmonized, Percentage change, Previous year: PCPIHABT_PC_CP_A_PT\n",
      "Clothing and footwear, Harmonized, Percentage change, Previous year: PCPIHAA_PC_CP_A_PT\n",
      "Housing, Water, Electricity, Gas and Other Fuels, Harmonized, Percentage change, Previous year: PCPIHAH_PC_CP_A_PT\n",
      "Furnishings, household equipment and routine household maintenance, Harmonized, Percentage change, Previous year: PCPIHAHO_PC_CP_A_PT\n",
      "Health, Harmonized, Percentage change, Previous year: PCPIHAM_PC_CP_A_PT\n",
      "Transport, Harmonized, Percentage change, Previous year: PCPIHAT_PC_CP_A_PT\n",
      "Communication, Harmonized, Percentage change, Previous year: PCPIHAC_PC_CP_A_PT\n",
      "Recreation and culture, Harmonized, Percentage change, Previous year: PCPIHARC_PC_CP_A_PT\n",
      "Education, Harmonized, Percentage change, Previous year: PCPIHAED_PC_CP_A_PT\n",
      "Restaurants and hotels, Harmonized, Percentage change, Previous year: PCPIHARE_PC_CP_A_PT\n",
      "Miscellaneous goods and services, Harmonized, Percentage change, Previous year: PCPIHAO_PC_CP_A_PT\n",
      "Food and non-alcoholic beverages, Weight, Percent: PCPIF_WT_PT\n",
      "Alcoholic Beverages, Tobacco, and Narcotics, Weight, Percent: PCPIFBT_WT_PT\n",
      "Clothing and footwear, Weight, Percent: PCPIA_WT_PT\n",
      "Housing, Water, Electricity, Gas and Other Fuels, Weight, Percent: PCPIH_WT_PT\n",
      "Furnishings, household equipment and routine household maintenance, Weight, Percent: PCPIHO_WT_PT\n",
      "Health, Weight, Percent: PCPIM_WT_PT\n",
      "Transport, Weight, Percent: PCPIT_WT_PT\n",
      "Communication, Weight, Percent: PCPIEC_WT_PT\n",
      "Recreation and culture, Weight, Percent: PCPIR_WT_PT\n",
      "Education, Weight, Percent: PCPIED_WT_PT\n",
      "Restaurants and hotels, Weight, Percent: PCPIRE_WT_PT\n",
      "Miscellaneous goods and services, Weight, Percent: PCPIO_WT_PT\n",
      "Clothing and footwear, Harmonized, Weight, Percent: PCPIHAA_WT_PT\n",
      "Alcoholic Beverages, Tobacco, and Narcotics, Harmonized, Weight, Percent: PCPIHABT_WT_PT\n",
      "Communication, Harmonized, Weight, Percent: PCPIHAC_WT_PT\n",
      "Education, Harmonized, Weight, Percent: PCPIHAED_WT_PT\n",
      "Food and non-alcoholic beverages, Harmonized, Weight, Percent: PCPIHAF_WT_PT\n",
      "Furnishings, household equipment and routine household maintenance, Harmonized, Weight, Percent: PCPIHAHO_WT_PT\n",
      "Housing, Water, Electricity, Gas and Other Fuels, Harmonized, Weight, Percent: PCPIHAH_WT_PT\n",
      "Health, Harmonized, Weight, Percent: PCPIHAM_WT_PT\n",
      "Miscellaneous goods and services, Harmonized, Weight, Percent: PCPIHAO_WT_PT\n",
      "Recreation and culture, Harmonized, Weight, Percent: PCPIHARC_WT_PT\n",
      "Restaurants and hotels, Harmonized, Weight, Percent: PCPIHARE_WT_PT\n",
      "Transport, Harmonized, Weight, Percent: PCPIHAT_WT_PT\n"
     ]
    }
   ],
   "source": [
    "# Example: codes for dimension 3\n",
    "key_3 = f\"CodeList/{dl[2]['@codelist']}\"\n",
    "cl = requests.get(f'{url}{key_3}').json()['Structure']['CodeLists']['CodeList']['Code']\n",
    "for c in cl:\n",
    "    print(f\"{c['Description']['#text']}: {c['@value']}\")"
   ]
  },
  {
   "cell_type": "markdown",
   "metadata": {},
   "source": []
  },
  {
   "cell_type": "markdown",
   "metadata": {},
   "source": [
    "#### Bad example for how to get metadata\n",
    "\n",
    "Probably better to just print the text, m, and read it."
   ]
  },
  {
   "cell_type": "code",
   "execution_count": 9,
   "metadata": {
    "ExecuteTime": {
     "end_time": "2019-04-20T14:45:28.143345Z",
     "start_time": "2019-04-20T14:45:28.005931Z"
    }
   },
   "outputs": [
    {
     "name": "stdout",
     "output_type": "stream",
     "text": [
      "Country: United Kingdom; Indicator: Prices, Import Price Index, All Commodities, Index\n"
     ]
    }
   ],
   "source": [
    "key = 'GenericMetadata/IFS/M.GB.PMP_IX'\n",
    "m = requests.get(f'{url}{key}').json()['GenericMetadata']['MetadataSet']['AttributeValueSet']\n",
    "country = m[1]['ReportedAttribute'][1]['ReportedAttribute'][3]['Value']['#text']\n",
    "indicator = m[2]['ReportedAttribute'][1]['ReportedAttribute'][3]['Value']['#text']\n",
    "print(f'Country: {country}; Indicator: {indicator}')"
   ]
  },
  {
   "cell_type": "markdown",
   "metadata": {},
   "source": [
    "#### Another example"
   ]
  },
  {
   "cell_type": "code",
   "execution_count": 10,
   "metadata": {
    "ExecuteTime": {
     "end_time": "2019-04-20T14:45:28.151313Z",
     "start_time": "2019-04-20T14:45:28.145908Z"
    }
   },
   "outputs": [],
   "source": [
    "%matplotlib inline\n",
    "\n",
    "import matplotlib\n",
    "from matplotlib import pyplot as plt\n",
    "#import seaborn\n",
    "matplotlib.rc('axes',edgecolor='w')"
   ]
  },
  {
   "cell_type": "code",
   "execution_count": 11,
   "metadata": {
    "ExecuteTime": {
     "end_time": "2019-04-20T14:45:30.042378Z",
     "start_time": "2019-04-20T14:45:28.153244Z"
    }
   },
   "outputs": [
    {
     "data": {
      "image/png": "[encoded data removed]",
      "text/plain": [
       "<Figure size 432x288 with 1 Axes>"
      ]
     },
     "metadata": {
      "needs_background": "light"
     },
     "output_type": "display_data"
    }
   ],
   "source": [
    "import pandas as pd           # pandas version 0.18.1\n",
    "\n",
    "# key includes two partners, B0 and W00 for EU and world\n",
    "key = 'CompactData/DOT/M.GB.TMG_CIF_USD.B0+W00'\n",
    "\n",
    "# Retrieve data from IMF API\n",
    "data = requests.get(f'{url}{key}').json()\n",
    "\n",
    "# Convert results to pandas dataframe\n",
    "df = pd.DataFrame({s['@COUNTERPART_AREA'] : {pd.to_datetime(i['@TIME_PERIOD']) : \n",
    "     round(float(i['@OBS_VALUE']), 1) for i in s['Obs']} \n",
    "     for s in data['CompactData']['DataSet']['Series']})\n",
    "\n",
    "# 12 month moving average of EU share of total\n",
    "eu_share = (df['B0'].div(df['W00']) * 100).rolling(12).mean()\n",
    "\n",
    "# Create a line plot and print most recent value as x label\n",
    "title = \"U.K. imports of goods: European Union share of total\"\n",
    "recent = f\"{eu_share.index[-1].strftime('%B %Y')}: {eu_share[-1].round(1)}%\"\n",
    "ax = eu_share.plot(title=title)\n",
    "ax = ax.set_xlabel(recent)"
   ]
  },
  {
   "cell_type": "code",
   "execution_count": null,
   "metadata": {},
   "outputs": [],
   "source": []
  },
  {
   "cell_type": "code",
   "execution_count": null,
   "metadata": {},
   "outputs": [],
   "source": []
  }
 ],
 "metadata": {
  "kernelspec": {
   "display_name": "Python 3 (ipykernel)",
   "language": "python",
   "name": "python3"
  },
  "language_info": {
   "codemirror_mode": {
    "name": "ipython",
    "version": 3
   },
   "file_extension": ".py",
   "mimetype": "text/x-python",
   "name": "python",
   "nbconvert_exporter": "python",
   "pygments_lexer": "ipython3",
   "version": "3.11.5"
  }
 },
 "nbformat": 4,
 "nbformat_minor": 2
}
